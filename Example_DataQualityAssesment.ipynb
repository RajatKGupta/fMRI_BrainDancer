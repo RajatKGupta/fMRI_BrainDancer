{
 "cells": [
  {
   "cell_type": "markdown",
   "metadata": {},
   "source": [
    "### Required Imports"
   ]
  },
  {
   "cell_type": "code",
   "execution_count": null,
   "metadata": {},
   "outputs": [],
   "source": [
    "import sys, nibabel as nib, numpy as np\n",
    "sys.path.insert(0, 'core/')\n",
    "from epi import  data_prep_ml\n",
    "from utils import imask_ut, outlier\n",
    "from denoiser import cnn\n",
    "from sklearn.model_selection import train_test_split\n",
    "from skimage.draw import circle\n",
    "from skimage.transform import hough_circle, hough_circle_peaks\n",
    "from keras.callbacks import ModelCheckpoint\n",
    "from scipy.stats import pearsonr\n",
    "import pymc3 as pm"
   ]
  },
  {
   "cell_type": "markdown",
   "metadata": {},
   "source": [
    "### Set Path for Input Files"
   ]
  },
  {
   "cell_type": "code",
   "execution_count": null,
   "metadata": {},
   "outputs": [],
   "source": [
    "ground_truth_ts = \" \" # Path of the ground truth in nifti format.\n",
    "measured_fmri_ts = \" \" # Path of the extracted measured fMRI time series in nifti format. \n",
    "masks = \" \" # Path of the saved masks of the extracted slices. "
   ]
  },
  {
   "cell_type": "markdown",
   "metadata": {},
   "source": [
    "### Obtain the Ground Truth, Measured fMRI and Noise"
   ]
  },
  {
   "cell_type": "code",
   "execution_count": null,
   "metadata": {},
   "outputs": [],
   "source": [
    "measured_fmri = nib.load(measured_fmri_ts)\n",
    "ground_truth = nib.load(ground_truth_ts)\n",
    "imask = nib.load(masks)\n",
    "imask_utils = imask_ut(imask)\n",
    "\n",
    "stack_scn, stack_sim, noise, stack_scn_flip, stack_sim_flip, noise_flip = data_prep_ml(ground_truth,measured_fmri,imask_utils,1,600)\n",
    "\n",
    "## stack_scn refers to the stack of measured fMRI time series\n",
    "## stack_sim refers to the stack of ground truth time series"
   ]
  },
  {
   "cell_type": "markdown",
   "metadata": {},
   "source": [
    "### Remove Outliers at 3 SD's away"
   ]
  },
  {
   "cell_type": "code",
   "execution_count": null,
   "metadata": {},
   "outputs": [],
   "source": [
    "index = outlier(stack_sim,3)\n",
    "scn =  np.delete(stack_scn,index,axis=0)  ## Measured fMRI after removing outlier voxels\n",
    "sim =  np.delete(stack_sim,index,axis=0)  ## Ground-Truth fMRI after removing outlier voxels"
   ]
  },
  {
   "cell_type": "markdown",
   "metadata": {},
   "source": [
    "# Calculate Data Quality Metrics"
   ]
  },
  {
   "cell_type": "markdown",
   "metadata": {},
   "source": [
    "### Calculate Signal-to-Noise Ratio"
   ]
  },
  {
   "cell_type": "code",
   "execution_count": null,
   "metadata": {},
   "outputs": [],
   "source": [
    "parseval_fx = np.sum(np.power(sim.flatten(),2))\n",
    "parseval_fn = np.sum(np.power(scn.flatten()-sim.flatten(),2))\n",
    "print('SNR: ',parseval_fx/parseval_fn)"
   ]
  },
  {
   "cell_type": "markdown",
   "metadata": {},
   "source": [
    "### Calculate Dynamic Fidelity "
   ]
  },
  {
   "cell_type": "code",
   "execution_count": null,
   "metadata": {},
   "outputs": [],
   "source": [
    "print('Fidelity: ',pearsonr(scn.flatten(),sim.flatten()))"
   ]
  },
  {
   "cell_type": "markdown",
   "metadata": {},
   "source": [
    "### Calculate Scanner Instability"
   ]
  },
  {
   "cell_type": "code",
   "execution_count": null,
   "metadata": {},
   "outputs": [],
   "source": [
    "gt_data = sim.flatten()\n",
    "fmri_data = scn.flatten()\n",
    "\n",
    "# here we assume that the two distributions add\n",
    "with pm.Model() as multi_noise:\n",
    "    sigma1 = pm.Uniform('sigma1',0,100)\n",
    "    ampl_noise = pm.Uniform('ampl_noise',0,100)\n",
    "    \n",
    "    fmri_observed = pm.Normal('fmri_observed',\n",
    "                              mu=gt_data,\n",
    "                              sd=np.sqrt(sigma1**2+ ampl_noise**2*gt_data**2), observed=fmri_data)\n",
    "\n",
    "    posterior = pm.sample(njobs=4)"
   ]
  },
  {
   "cell_type": "code",
   "execution_count": null,
   "metadata": {},
   "outputs": [],
   "source": [
    "pm.traceplot(posterior)"
   ]
  },
  {
   "cell_type": "code",
   "execution_count": null,
   "metadata": {},
   "outputs": [],
   "source": [
    "pm.summary(posterior)"
   ]
  },
  {
   "cell_type": "code",
   "execution_count": null,
   "metadata": {},
   "outputs": [],
   "source": [
    "thermal = np.mean(posterior['sigma1'])\n",
    "beta = np.mean(posterior['ampl_noise'])\n",
    "sigma_mult = np.sqrt(np.sum((beta**2)*gt_data**2)/len(gt_data))\n",
    "sig_total = np.sqrt(thermal**2+sigma_mult**2)\n",
    "print(\"sigma thermal normalized\",thermal/np.std(gt_data))\n",
    "print(\"sigma thermal normalized error\",np.std(posterior['sigma1'])/np.std(gt_data))\n",
    "print(\"sigma multi/thermal:\",sigma_mult**2/sig_total**2)     # Scanner-Instability to Thermal Noise Ratio"
   ]
  }
 ],
 "metadata": {
  "kernelspec": {
   "display_name": "Python 3",
   "language": "python",
   "name": "python3"
  },
  "language_info": {
   "codemirror_mode": {
    "name": "ipython",
    "version": 3
   },
   "file_extension": ".py",
   "mimetype": "text/x-python",
   "name": "python",
   "nbconvert_exporter": "python",
   "pygments_lexer": "ipython3",
   "version": "3.6.5"
  }
 },
 "nbformat": 4,
 "nbformat_minor": 2
}
