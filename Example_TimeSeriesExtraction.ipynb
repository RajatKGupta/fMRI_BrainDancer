{
 "cells": [
  {
   "cell_type": "markdown",
   "metadata": {},
   "source": [
    "### Required Imports\n"
   ]
  },
  {
   "cell_type": "code",
   "execution_count": null,
   "metadata": {},
   "outputs": [],
   "source": [
    "import sys\n",
    "sys.path.insert(0, 'core/')\n",
    "from analysis import create_denoising_dataset\n",
    "import nibabel as nib, scipy.io as sio\n",
    "from utils import list_to_nib\n"
   ]
  },
  {
   "cell_type": "markdown",
   "metadata": {},
   "source": [
    "### Set Path for Input Files"
   ]
  },
  {
   "cell_type": "code",
   "execution_count": null,
   "metadata": {},
   "outputs": [],
   "source": [
    "epi_path = \" \" # Path of intensity nonuniformity corrected fMRI measurement in nifti format.\n",
    "log_path = \" \" # Path of phantom-log file obtained from your BrainDancer device.\n",
    "acqtimes_path = \" \" # Path of slice-acquistion order of your acquistion protocol in csv format."
   ]
  },
  {
   "cell_type": "markdown",
   "metadata": {},
   "source": [
    "### Set Path for Saving Output Files"
   ]
  },
  {
   "cell_type": "code",
   "execution_count": null,
   "metadata": {},
   "outputs": [],
   "source": [
    "ground_truth_ts = \" \" # Path for saving the ground truth.\n",
    "measured_fmri_ts = \" \" # Path for saving the extracted measured fMRI time series. \n",
    "masks = \" \" # Path for saving masks of the extracted slices. \n",
    "center_rotation = \" \" # Path for saving the center of rotation used for creating ground-truth. \n",
    "slices = \" \" # Path for saving a log of slices used for ground-truth and measured fMRI time series. "
   ]
  },
  {
   "cell_type": "markdown",
   "metadata": {},
   "source": [
    "### Run the Extraction "
   ]
  },
  {
   "cell_type": "code",
   "execution_count": null,
   "metadata": {
    "scrolled": false
   },
   "outputs": [],
   "source": [
    "ground_truth, measured_fmri, imask, center, all_slices = create_denoising_dataset(epi_path,log_path,acqtimes_path,rot_dir=-1)"
   ]
  },
  {
   "cell_type": "markdown",
   "metadata": {},
   "source": [
    "### Save the Results"
   ]
  },
  {
   "cell_type": "code",
   "execution_count": null,
   "metadata": {},
   "outputs": [],
   "source": [
    "nib.save(ground_truth,ground_truth_ts +'/groundtruth.nii')\n",
    "nib.save(measured_fmri,measured_fmri_ts+'/measured.nii')\n",
    "nib.save(list_to_nib(imask,ground_truth.affine),masks+'/masks.nii')\n",
    "sio.savemat(center_rotation+'/center.mat',{'center':center}) \n",
    "sio.savemat(center_rotation+'/slices.mat',{'slices':all_slices})"
   ]
  }
 ],
 "metadata": {
  "kernelspec": {
   "display_name": "Python 3",
   "language": "python",
   "name": "python3"
  },
  "language_info": {
   "codemirror_mode": {
    "name": "ipython",
    "version": 3
   },
   "file_extension": ".py",
   "mimetype": "text/x-python",
   "name": "python",
   "nbconvert_exporter": "python",
   "pygments_lexer": "ipython3",
   "version": "3.6.5"
  }
 },
 "nbformat": 4,
 "nbformat_minor": 2
}
